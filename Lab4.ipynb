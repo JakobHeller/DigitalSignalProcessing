{
 "cells": [
  {
   "cell_type": "markdown",
   "metadata": {
    "slideshow": {
     "slide_type": "-"
    }
   },
   "source": [
    "# Lab Exersice 4\n",
    "*Author: Jakob Heller, Steffen Steiner, Clemens Konrad Müller* \n"
   ]
  },
  {
   "cell_type": "markdown",
   "metadata": {},
   "source": [
    "## Exercise 1: FIR \u001c",
    "lter design\n"
   ]
  },
  {
   "cell_type": "markdown",
   "metadata": {},
   "source": [
    "* a) Show that the impulse response in general can be given as\n",
    "\n",
    "\\begin{equation}\n",
    "h[k] = \\frac{sin(π(k−N/2)}{π(k−N/2)} −\n",
    "\\frac{sin(Ω_c(k-N/2))}{π(k−N/2)}\\;\\;\\;\\;for −∞≤ k ≤∞. \n",
    "\\end{equation}"
   ]
  },
  {
   "cell_type": "markdown",
   "metadata": {},
   "source": [
    "Given:\n",
    "\\begin{equation}\n",
    "H(Ω)= \\begin{cases} \n",
    "   0\\cdot e^{-jΩ\\frac{N}{2}}\\qquad ,|Ω| < Ω_c\n",
    "   \\\\ 1\\cdot e^{-jΩ\\frac{N}{2}}\\qquad ,Ω_c < |Ω| \\leq π \n",
    "   \\end{cases}\n",
    "\\end{equation}\n",
    "\n",
    "The IDTFT yields to the equation:\n",
    "\n",
    "\\begin{equation}\n",
    "h[k] = \\frac{1}{2π} \\int_{Ω_c}^{π} e^{-jΩ\\frac{N}{2}}\\cdot e^{jΩk} dΩ\n",
    "\\end{equation}\n",
    "Simplified to:\n",
    "\\begin{equation}\n",
    "h[k] = \\frac{1}{2π} \\int_{Ω_c}^{π} e^{Ω(-j\\frac{N}{2}+jk)} dΩ\n",
    "\\end{equation}\n",
    "Solving the integral results in:\n",
    "\n",
    "\\begin{equation}\n",
    "h[k] = \\frac{1}{π(k-N/2)}\\cdot \\frac{e^{jπ(k-N/2)}-e^{jΩ_c(k-N/2)}}{2j}\n",
    "\\end{equation}\n",
    "\n",
    "Expressing the complex exponential function in real and imaginary part:\n",
    "\n",
    "\\begin{equation}\n",
    "h[k] = \\frac{1}{π(k-N/2)}\\cdot \\frac{1}{2j} [cos(π(k-N/2))+jsin(π(k-N/2))-cos(Ω_c(k-N/2))-jsin(Ω_c(k-N/2))]\n",
    "\\end{equation}\n",
    "\n",
    "Separating real and imaginary parts yields:\n",
    "\n",
    "\\begin{equation}\n",
    "h[k] = \\frac{1}{2} \\cdot \\left( \\frac{sin(π(k-N/2))-sin(Ω_c(k-N/2))}{π(k-N/2)} \\right)+ \\frac{1}{2} \\cdot \\left( \\frac{cos(π(k-N/2))-cos(Ω_c(k-N/2))}{jπ(k-N/2)} \\right)\n",
    "\\end{equation}\n",
    "\n",
    "using following identity:\n",
    "\n",
    "\\begin{equation}\n",
    "\\frac{cos(\\alpha)}{j} = sin(\\alpha)\n",
    "\\end{equation}\n",
    "\n",
    "The equation results in:\n",
    "\n",
    "\\begin{equation}\n",
    "h[k] = \\frac{1}{2} \\cdot \\left( \\frac{sin(π(k-N/2))-sin(Ω_c(k-N/2))}{π(k-N/2)} \\right)+\\frac{1}{2} \\cdot \\left( \\frac{sin(π(k-N/2))-sin(Ω_c(k-N/2))}{π(k-N/2)} \\right)\n",
    "\\end{equation}\n",
    "\n",
    "This leads to the given impulsresponse in a)\n",
    "\n",
    "\\begin{equation}\n",
    "h[k] = \\frac{sin(π(k−N/2)}{π(k−N/2)} −\n",
    "\\frac{sin(Ω_c(k-N/2))}{π(k−N/2)}\\;\\;\\;\\;for −∞≤ k ≤∞. \n",
    "\\end{equation}"
   ]
  },
  {
   "cell_type": "markdown",
   "metadata": {},
   "source": [
    "* b) Show that in the special case of even N \n",
    "\\begin{equation}\n",
    "h[k] = \\begin{cases} \n",
    "   −\\frac{sin(Ω_c(k-N/2))}{π(k−N/2)}\\qquad\\: ,k \\neq N/2\n",
    "   \\\\ 1-\\frac{Ω_c}{π}\\qquad\\qquad\\:\\:\\:\\: ,k=N/2\n",
    "   \\end{cases}\n",
    "\\end{equation}\n",
    "can be derived.\n"
   ]
  },
  {
   "cell_type": "markdown",
   "metadata": {},
   "source": [
    "Starting with the equation for h[k]:\n",
    "\\begin{equation}\n",
    "h[k] = \\frac{sin(π(k−N/2)}{π(k−N/2)} −\n",
    "\\frac{sin(Ω_c(k-N/2))}{π(k−N/2)}\n",
    "\\end{equation}\n",
    "\n",
    "Even N: N=2m $\\forall m \\in \\mathbb{Z}$\n",
    "\n",
    "\n",
    "\\begin{equation}\n",
    "h[k] = \\frac{sin(π(k−m)}{π(k−m)} −\n",
    "\\frac{sin(Ω_c(k-m))}{π(k−m)}\n",
    "\\end{equation}\n",
    "\n",
    "Since $(k-m) \\in \\mathbb{Z}$ and $sin(x\\pi)=0 \\: \\forall x \\in \\mathbb{Z}$ one can derive the equation for $k \\neq N/2$ as:\n",
    "\n",
    "\\begin{equation}\n",
    "h[k] = \\frac{sin(π(k−m)}{π(k−m)} −\n",
    "\\frac{sin(Ω_c(k-m))}{π(k−m)} = \\frac{0}{π(k−m)}-\\frac{sin(Ω_c(k-m))}{π(k−m)} = -\\frac{sin(Ω_c(k-N/2))}{π(k−N/2)}\n",
    "\\end{equation}\n",
    "\n",
    "For $k = N/2$ the denominator becomes zero, which leads to the conclusion to use the limit. Therefore we define x = k-m:\n",
    "\n",
    "\\begin{equation}\n",
    "\\lim_{x \\to 0} h[k] = \\lim_{x \\to 0} \\left( \\frac{sin(πx)}{πx} −\n",
    "\\frac{sin(Ω_cx)}{πx} \\right)\n",
    "\\end{equation}\n",
    "\n",
    "Considering the first term:\n",
    "\n",
    "\\begin{equation}\n",
    "\\lim_{x \\to 0} \\frac{sin(πx)}{πx}\n",
    "\\end{equation}\n",
    "\n",
    "The limit is undefined, so using the rule of L'hospital gives:\n",
    "\\begin{equation}\n",
    "\\lim_{x \\to 0} \\frac{cos(\\pi x) \\cdot \\pi}{π} = 1\n",
    "\\end{equation}\n",
    "\n",
    "Considering the second term:\n",
    "\\begin{equation}\n",
    "\\lim_{x \\to 0} \\frac{sin(Ω_cx)}{πx}\n",
    "\\end{equation}\n",
    "\n",
    "The limit is undefined, so using the rule of L'hospital gives:\n",
    "\\begin{equation}\n",
    "\\lim_{x \\to 0} \\frac{cos(Ω_cx) \\cdot Ω_c}{π} = \\frac{Ω_c}{\\pi}\n",
    "\\end{equation}\n",
    "\n",
    "This leads to the final result of:\n",
    "\\begin{equation}\n",
    "h[k] = \\begin{cases} \n",
    "   −\\frac{sin(Ω_c(k-N/2))}{π(k−N/2)}\\qquad\\: ,k \\neq N/2\n",
    "   \\\\ 1-\\frac{Ω_c}{π}\\qquad\\qquad\\:\\:\\:\\: ,k=N/2\n",
    "   \\end{cases}\n",
    "\\end{equation}"
   ]
  },
  {
   "cell_type": "markdown",
   "metadata": {},
   "source": [
    "* c) Generate highpass FIR fi\u001c",
    "lters with di\u001bfferent cut-o\u001bff frequencies fc = 100, 1000, 10000 Hz with adapted \u001c",
    "filter orders N by rectangular windowing (h[k]) and by Kaiser-Bessel windowing (hw[k] = h[k]·wKB[k]) for 0 ≤ k ≤ N and a sampling frequency of fs = 48000 Hz. The stop band attenuation of the Kaisel-Bessel window shall be A = 36 dB. The speci\u001c",
    "c fi\u001c",
    "lter order N is to be adapted to four cycle durations of the speci\u001c",
    "c cut-o\u001bff frequency. N should be even, i.e. an odd number N + 1 of FIR coe\u001e",
    "cients results. This yields about the same slope steepnesses of the fi\u001c",
    "lter responses. Create the magnitude responses in \u001c",
    "fig. 1 on your own and check if the FIR \u001c",
    "filters are really linear-phase.\n"
   ]
  },
  {
   "cell_type": "code",
   "execution_count": 104,
   "metadata": {
    "collapsed": false
   },
   "outputs": [
    {
     "name": "stderr",
     "output_type": "stream",
     "text": [
      "C:\\Users\\Steffen\\Anaconda3\\lib\\site-packages\\ipykernel\\__main__.py:30: VisibleDeprecationWarning: using a non-integer number instead of an integer will result in an error in the future\n"
     ]
    },
    {
     "name": "stdout",
     "output_type": "stream",
     "text": [
      "0.995833333333\n"
     ]
    },
    {
     "data": {
      "image/png": "[encoded data removed]",
      "text/plain": [
       "<matplotlib.figure.Figure at 0x16e7d9e2978>"
      ]
     },
     "metadata": {},
     "output_type": "display_data"
    }
   ],
   "source": [
    "%matplotlib inline \n",
    "import numpy as np\n",
    "import matplotlib.pyplot as plt\n",
    "\n",
    "fc1 = 100\n",
    "fc2= 1000\n",
    "fc3= 10000\n",
    "fs = 48000\n",
    "A = 36\n",
    "\n",
    "def fir_imulse_response_kaiser(fc, fs, A):\n",
    "    bet=0.5842*(A-21)**0.4 + 0.07886*(A-21)\n",
    "    N = int(np.round(4*fs/fc)) #filter order\n",
    "    if(N%2!=0):\n",
    "        N = N+1\n",
    "    k = np.arange(N)#length of filter\n",
    "    ohm = 2*np.pi*(fc/fs)\n",
    "    h = np.zeros(N)\n",
    "    for i in range(0,N):\n",
    "        if(i != np.round((N/2))):\n",
    "            h[i] =  -(np.sin(ohm*(i-N/2))/(np.pi*(i-N/2)))\n",
    "        else:\n",
    "            h[i] = 1-(ohm/np.pi)\n",
    "    \n",
    "    #h = np.sin(np.pi*(k-N/2))/(np.pi*(k-N/2))-np.sin(2*np.pi*(fs/fc)*(k-N/2))/(np.pi*(k-N/2))\n",
    "    #h[0:N-2] =  -np.sin(2*np.pi*fc*(k[0:N-2]-N/2))/np.pi*(k[0:N-2]-N/2)\n",
    "    #h[N/2-1] = 1-2*np.pi*fc/fs/np.pi\n",
    "\n",
    "    w_kaiser = np.kaiser(N, bet)\n",
    "    print(h[np.round((N/2))])\n",
    "    #plt.plot(h)\n",
    "    #plt.axis([750, 1150, -0.005,0.005])\n",
    "    plt.semilogx(20 * np.log10(abs(np.fft.fftshift(np.fft.fft(h,N)))))\n",
    "    #plt.axis([900, 1100, 10**-2,10**2])\n",
    "    h_w_kaiser = h*w_kaiser;\n",
    "    return h_w_kaiser\n",
    "\n",
    "\n",
    "h_w_kaiser = fir_imulse_response_kaiser(fc1, fs, A)\n",
    "#print(np.fft.fft(h_w_kaiser,len(h_w_kaiser)))\n",
    "#plt.plot(h_w_kaiser)\n",
    "\n",
    "#plt.plot(np.fft.fft(h_w_kaiser,len(h_w_kaiser)))\n",
    "#plt.axis([175, 225, -100, 5])\n",
    "\n",
    "#sincx=np.sinc(np.linspace(-1000,1000,N, endpoint=False)) #this is the impuls response of the ideal low pass filter\n",
    "#plt.plot(np.linspace(-N,N,2500, endpoint=False),sincx)\n",
    "#plt.plot(np.linspace(-N,N,2500, endpoint=False),w_kaiser)"
   ]
  },
  {
   "cell_type": "code",
   "execution_count": 91,
   "metadata": {
    "collapsed": false
   },
   "outputs": [],
   "source": [
    "#plt.plot(2500, np.fft.fft(w_kaiser*sincx, 2500))"
   ]
  },
  {
   "cell_type": "markdown",
   "metadata": {},
   "source": [
    "* d) Which window results when choosing A < 21 dB for the Kaiser-Bessel calculation method? Why is this the case?"
   ]
  },
  {
   "cell_type": "code",
   "execution_count": null,
   "metadata": {
    "collapsed": true
   },
   "outputs": [],
   "source": []
  },
  {
   "cell_type": "markdown",
   "metadata": {},
   "source": [
    "* e) How is the slope steepness of the \u001c",
    "filter responses being aff\u001bected by choosing a constant, e.g. N = 192, \u001c",
    "filter order and using the diff\u001berent cut-off\u001b frequencies 100, 1000, 10000 Hz. Why is this the case?"
   ]
  },
  {
   "cell_type": "code",
   "execution_count": null,
   "metadata": {
    "collapsed": true
   },
   "outputs": [],
   "source": []
  },
  {
   "cell_type": "markdown",
   "metadata": {},
   "source": [
    "## Exercise 2: IIR \u001c",
    "filter design using the bilinear transform\n"
   ]
  },
  {
   "cell_type": "markdown",
   "metadata": {},
   "source": [
    "* a) Derive H(z) in general form from H(s) given in eq. 7 using s = 2fs z−1 z+1 and formulate H(z) in the so-called biquad structure, i.e. as an IIR \u001c",
    "lter, as follows\n",
    "\\begin{equation}\n",
    "H(z) = \\frac{ b_0 + b_1z^{−1} + b_2z^{−2}}{1 + a_1z^{−1} + a_2z^{−2}}\n",
    "\\end{equation}\n",
    "i.e. express the coffe\u001e",
    "cients b0, b1, b2 and a1, a2 in general form."
   ]
  },
  {
   "cell_type": "markdown",
   "metadata": {},
   "source": [
    "Given in the exercise:\n",
    "\n",
    "\\begin{equation}\n",
    "H(s) = \\frac{1}{1 - s/w_c} \n",
    "\\end{equation}\n",
    "\n",
    "with $s \\approx 2\\cdot f_s \\frac{z-1}{z+1}$ the equation results in:\n",
    "\n",
    "\\begin{equation}\n",
    "H(z) = \\frac{1}{1 - \\frac{2\\cdot f_s \\frac{z-1}{z+1}}{w_c}} = \\frac{z+1}{z+1+\\frac{2 \\cdot f_s (z-1)}{w_c}} = \\frac{z+1}{z+1+\\frac{2 \\cdot f_s \\cdot z-2 \\cdot f_s}{w_c}} = \\frac{z+1}{z\\left(1+ \\frac{2 \\cdot f_s}{w_c}\\right)+\\left( 1- \\frac{2 \\cdot f_s}{w_c}\\right)}\n",
    "\\end{equation}\n",
    "\n",
    "\\begin{equation}\n",
    "H(z) = \\frac{1+z^{-1}}{\\left(1+ \\frac{2 \\cdot f_s}{w_c}\\right)+ z^{-1}\\left( 1- \\frac{2 \\cdot f_s}{w_c}\\right)} = \\frac{ \\frac{1}{1+ \\frac{2 \\cdot f_s}{w_c}}+ \\left( \\frac{1}{1+ \\frac{2 \\cdot f_s}{w_c}}\\right)z^{-1}}{1+ \\left( \\frac{1- \\frac{2 \\cdot f_s}{w_c}}{1+ \\frac{2 \\cdot f_s}{w_c}}\\right)z^{-1}}\n",
    "\\end{equation}"
   ]
  },
  {
   "cell_type": "code",
   "execution_count": null,
   "metadata": {
    "collapsed": true
   },
   "outputs": [],
   "source": []
  }
 ],
 "metadata": {
  "anaconda-cloud": {},
  "kernelspec": {
   "display_name": "Python [default]",
   "language": "python",
   "name": "python3"
  },
  "language_info": {
   "codemirror_mode": {
    "name": "ipython",
    "version": 3
   },
   "file_extension": ".py",
   "mimetype": "text/x-python",
   "name": "python",
   "nbconvert_exporter": "python",
   "pygments_lexer": "ipython3",
   "version": "3.5.2"
  }
 },
 "nbformat": 4,
 "nbformat_minor": 1
}
