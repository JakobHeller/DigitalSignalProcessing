{
 "cells": [
  {
   "cell_type": "markdown",
   "metadata": {
    "slideshow": {
     "slide_type": "-"
    }
   },
   "source": [
    "# Lab Exersice 4\n",
    "*Author: Jakob Heller, Steffen Steiner, Clemens Konrad Müller* \n"
   ]
  },
  {
   "cell_type": "markdown",
   "metadata": {},
   "source": [
    "## Exercise 1: FIR \u001c",
    "lter design\n"
   ]
  },
  {
   "cell_type": "markdown",
   "metadata": {},
   "source": [
    "* a) Show that the impulse response in general can be given as\n",
    "\n",
    "\\begin{equation}\n",
    "h[k] = \\frac{sin(π(k−N/2)}{π(k−N/2)} −\n",
    "\\frac{sin(Ω_c(k-N/2))}{π(k−N/2)}\\;\\;\\;\\;for −∞≤ k ≤∞. \n",
    "\\end{equation}"
   ]
  },
  {
   "cell_type": "markdown",
   "metadata": {},
   "source": [
    "Given:\n",
    "\\begin{equation}\n",
    "H(Ω)= \\begin{cases} \n",
    "   0\\cdot e^{-jΩ\\frac{N}{2}}\\qquad ,|Ω| < Ω_c\n",
    "   \\\\ 1\\cdot e^{-jΩ\\frac{N}{2}}\\qquad ,Ω_c < |Ω| \\leq π \n",
    "   \\end{cases}\n",
    "\\end{equation}\n",
    "\n",
    "The IDTFT yields to the equation:\n",
    "\n",
    "\\begin{equation}\n",
    "h[k] = \\frac{1}{2π} \\int_{Ω_c}^{π} e^{-jΩ\\frac{N}{2}}\\cdot e^{jΩk} dΩ\n",
    "\\end{equation}\n",
    "Simplified to:\n",
    "\\begin{equation}\n",
    "h[k] = \\frac{1}{2π} \\int_{Ω_c}^{π} e^{Ω(-j\\frac{N}{2}+jk)} dΩ\n",
    "\\end{equation}\n",
    "Solving the integral results in:\n",
    "\n",
    "\\begin{equation}\n",
    "h[k] = \\frac{1}{π(k-N/2)}\\cdot \\frac{e^{jπ(k-N/2)}-e^{jΩ_c(k-N/2)}}{2j}\n",
    "\\end{equation}\n",
    "\n",
    "Expressing the complex exponential function in real and imaginary part:\n",
    "\n",
    "\\begin{equation}\n",
    "h[k] = \\frac{1}{π(k-N/2)}\\cdot \\frac{1}{2j} [cos(π(k-N/2))+jsin(π(k-N/2))-cos(Ω_c(k-N/2))-jsin(Ω_c(k-N/2))]\n",
    "\\end{equation}\n",
    "\n",
    "Separating real and imaginary parts yields:\n",
    "\n",
    "\\begin{equation}\n",
    "h[k] = \\frac{1}{2} \\cdot \\left( \\frac{sin(π(k-N/2))-sin(Ω_c(k-N/2))}{π(k-N/2)} \\right)+ \\frac{1}{2} \\cdot \\left( \\frac{cos(π(k-N/2))-cos(Ω_c(k-N/2))}{jπ(k-N/2)} \\right)\n",
    "\\end{equation}\n",
    "\n",
    "using following identity:\n",
    "\n",
    "\\begin{equation}\n",
    "\\frac{cos(\\alpha)}{j} = sin(\\alpha)\n",
    "\\end{equation}\n",
    "\n",
    "The equation results in:\n",
    "\n",
    "\\begin{equation}\n",
    "h[k] = \\frac{1}{2} \\cdot \\left( \\frac{sin(π(k-N/2))-sin(Ω_c(k-N/2))}{π(k-N/2)} \\right)+\\frac{1}{2} \\cdot \\left( \\frac{sin(π(k-N/2))-sin(Ω_c(k-N/2))}{π(k-N/2)} \\right)\n",
    "\\end{equation}\n",
    "\n",
    "This leads to the given impulsresponse in a)\n",
    "\n",
    "\\begin{equation}\n",
    "h[k] = \\frac{sin(π(k−N/2)}{π(k−N/2)} −\n",
    "\\frac{sin(Ω_c(k-N/2))}{π(k−N/2)}\\;\\;\\;\\;for −∞≤ k ≤∞. \n",
    "\\end{equation}"
   ]
  },
  {
   "cell_type": "markdown",
   "metadata": {},
   "source": [
    "* b) Show that in the special case of even N \n",
    "\\begin{equation}\n",
    "h[k] = \\begin{cases} \n",
    "   −\\frac{sin(Ω_c(k-N/2))}{π(k−N/2)}\\qquad\\: ,k \\neq N/2\n",
    "   \\\\ 1-\\frac{Ω_c}{π}\\qquad\\qquad\\:\\:\\:\\: ,k=N/2\n",
    "   \\end{cases}\n",
    "\\end{equation}\n",
    "can be derived.\n"
   ]
  },
  {
   "cell_type": "markdown",
   "metadata": {},
   "source": [
    "Starting with the equation for h[k]:\n",
    "\\begin{equation}\n",
    "h[k] = \\frac{sin(π(k−N/2)}{π(k−N/2)} −\n",
    "\\frac{sin(Ω_c(k-N/2))}{π(k−N/2)}\n",
    "\\end{equation}\n",
    "\n",
    "Even N: N=2m $\\forall m \\in \\mathbb{Z}$\n",
    "\n",
    "\n",
    "\\begin{equation}\n",
    "h[k] = \\frac{sin(π(k−m)}{π(k−m)} −\n",
    "\\frac{sin(Ω_c(k-m))}{π(k−m)}\n",
    "\\end{equation}\n",
    "\n",
    "Since $(k-m) \\in \\mathbb{Z}$ and $sin(x\\pi)=0 \\: \\forall x \\in \\mathbb{Z}$ one can derive the equation for $k \\neq N/2$ as:\n",
    "\n",
    "\\begin{equation}\n",
    "h[k] = \\frac{sin(π(k−m)}{π(k−m)} −\n",
    "\\frac{sin(Ω_c(k-m))}{π(k−m)} = \\frac{0}{π(k−m)}-\\frac{sin(Ω_c(k-m))}{π(k−m)} = -\\frac{sin(Ω_c(k-N/2))}{π(k−N/2)}\n",
    "\\end{equation}\n",
    "\n",
    "For $k = N/2$ the denominator becomes zero, which leads to the conclusion to use the limit. Therefore we define x = k-m:\n",
    "\n",
    "\\begin{equation}\n",
    "\\lim_{x \\to 0} h[k] = \\lim_{x \\to 0} \\left( \\frac{sin(πx)}{πx} −\n",
    "\\frac{sin(Ω_cx)}{πx} \\right)\n",
    "\\end{equation}\n",
    "\n",
    "Considering the first term:\n",
    "\n",
    "\\begin{equation}\n",
    "\\lim_{x \\to 0} \\frac{sin(πx)}{πx}\n",
    "\\end{equation}\n",
    "\n",
    "The limit is undefined, so using the rule of L'hospital gives:\n",
    "\\begin{equation}\n",
    "\\lim_{x \\to 0} \\frac{cos(\\pi x) \\cdot \\pi}{π} = 1\n",
    "\\end{equation}\n",
    "\n",
    "Considering the second term:\n",
    "\\begin{equation}\n",
    "\\lim_{x \\to 0} \\frac{sin(Ω_cx)}{πx}\n",
    "\\end{equation}\n",
    "\n",
    "The limit is undefined, so using the rule of L'hospital gives:\n",
    "\\begin{equation}\n",
    "\\lim_{x \\to 0} \\frac{cos(Ω_cx) \\cdot Ω_c}{π} = \\frac{Ω_c}{\\pi}\n",
    "\\end{equation}\n",
    "\n",
    "This leads to the final result of:\n",
    "\\begin{equation}\n",
    "h[k] = \\begin{cases} \n",
    "   −\\frac{sin(Ω_c(k-N/2))}{π(k−N/2)}\\qquad\\: ,k \\neq N/2\n",
    "   \\\\ 1-\\frac{Ω_c}{π}\\qquad\\qquad\\:\\:\\:\\: ,k=N/2\n",
    "   \\end{cases}\n",
    "\\end{equation}"
   ]
  },
  {
   "cell_type": "markdown",
   "metadata": {},
   "source": [
    "* c) Generate highpass FIR fi\u001c",
    "lters with di\u001bfferent cut-o\u001bff frequencies fc = 100, 1000, 10000 Hz with adapted \u001c",
    "filter orders N by rectangular windowing (h[k]) and by Kaiser-Bessel windowing (hw[k] = h[k]·wKB[k]) for 0 ≤ k ≤ N and a sampling frequency of fs = 48000 Hz. The stop band attenuation of the Kaisel-Bessel window shall be A = 36 dB. The speci\u001c",
    "c fi\u001c",
    "lter order N is to be adapted to four cycle durations of the speci\u001c",
    "c cut-o\u001bff frequency. N should be even, i.e. an odd number N + 1 of FIR coe\u001e",
    "cients results. This yields about the same slope steepnesses of the fi\u001c",
    "lter responses. Create the magnitude responses in \u001c",
    "fig. 1 on your own and check if the FIR \u001c",
    "filters are really linear-phase.\n"
   ]
  },
  {
   "cell_type": "code",
   "execution_count": 84,
   "metadata": {
    "collapsed": false
   },
   "outputs": [
    {
     "name": "stderr",
     "output_type": "stream",
     "text": [
      "C:\\Users\\Steffen\\Anaconda3\\lib\\site-packages\\numpy\\core\\numeric.py:482: ComplexWarning: Casting complex values to real discards the imaginary part\n",
      "  return array(a, dtype, copy=False, order=order)\n"
     ]
    },
    {
     "data": {
      "text/plain": [
       "[<matplotlib.lines.Line2D at 0x25778a9d208>]"
      ]
     },
     "execution_count": 84,
     "metadata": {},
     "output_type": "execute_result"
    },
    {
     "data": {
      "image/png": "[encoded data removed]",
      "text/plain": [
       "<matplotlib.figure.Figure at 0x25778a4eb00>"
      ]
     },
     "metadata": {},
     "output_type": "display_data"
    }
   ],
   "source": [
    "%matplotlib inline \n",
    "import numpy as np\n",
    "import matplotlib.pyplot as plt\n",
    "\n",
    "fc1 = 100\n",
    "fc2= 1000\n",
    "fc3= 10000\n",
    "fs = 48000\n",
    "A = 36\n",
    "bet=0.5842*(A-21)**0.4 + 0.07886*(A-21)\n",
    "N=2500#(fc1/4) #is even\n",
    "k = np.arange(-N/2,N/2)\n",
    "h1 = np.zeros(N)\n",
    "h1[0:N-2] =  -np.sin(2*np.pi*fc1*(k[0:N-2]-N/2))/np.pi*(k[0:N-2]-N/2)\n",
    "h1[N-1] = 1-2*np.pi*fc1/np.pi\n",
    "\n",
    "w_kaiser= np.kaiser(N, bet)\n",
    "plt.plot(np.fft.fft(h1,N))\n",
    "\n",
    "#sincx=np.sinc(np.linspace(-1000,1000,N, endpoint=False)) #this is the impuls response of the ideal low pass filter\n",
    "#plt.plot(np.linspace(-N,N,2500, endpoint=False),sincx)\n",
    "#plt.plot(np.linspace(-N,N,2500, endpoint=False),w_kaiser)"
   ]
  },
  {
   "cell_type": "code",
   "execution_count": 78,
   "metadata": {
    "collapsed": false
   },
   "outputs": [
    {
     "ename": "ValueError",
     "evalue": "x and y must have same first dimension",
     "output_type": "error",
     "traceback": [
      "\u001b[0;31m---------------------------------------------------------------------------\u001b[0m",
      "\u001b[0;31mValueError\u001b[0m                                Traceback (most recent call last)",
      "\u001b[0;32m<ipython-input-78-7a24b1ad7b9e>\u001b[0m in \u001b[0;36m<module>\u001b[0;34m()\u001b[0m\n\u001b[0;32m----> 1\u001b[0;31m \u001b[0mplt\u001b[0m\u001b[1;33m.\u001b[0m\u001b[0mplot\u001b[0m\u001b[1;33m(\u001b[0m\u001b[1;36m2500\u001b[0m\u001b[1;33m,\u001b[0m \u001b[0mnp\u001b[0m\u001b[1;33m.\u001b[0m\u001b[0mfft\u001b[0m\u001b[1;33m.\u001b[0m\u001b[0mfft\u001b[0m\u001b[1;33m(\u001b[0m\u001b[0mw_kaiser\u001b[0m\u001b[1;33m*\u001b[0m\u001b[0msincx\u001b[0m\u001b[1;33m,\u001b[0m \u001b[1;36m2500\u001b[0m\u001b[1;33m)\u001b[0m\u001b[1;33m)\u001b[0m\u001b[1;33m\u001b[0m\u001b[0m\n\u001b[0m",
      "\u001b[0;32mC:\\Users\\Steffen\\Anaconda3\\lib\\site-packages\\matplotlib\\pyplot.py\u001b[0m in \u001b[0;36mplot\u001b[0;34m(*args, **kwargs)\u001b[0m\n\u001b[1;32m   3159\u001b[0m         \u001b[0max\u001b[0m\u001b[1;33m.\u001b[0m\u001b[0mhold\u001b[0m\u001b[1;33m(\u001b[0m\u001b[0mhold\u001b[0m\u001b[1;33m)\u001b[0m\u001b[1;33m\u001b[0m\u001b[0m\n\u001b[1;32m   3160\u001b[0m     \u001b[1;32mtry\u001b[0m\u001b[1;33m:\u001b[0m\u001b[1;33m\u001b[0m\u001b[0m\n\u001b[0;32m-> 3161\u001b[0;31m         \u001b[0mret\u001b[0m \u001b[1;33m=\u001b[0m \u001b[0max\u001b[0m\u001b[1;33m.\u001b[0m\u001b[0mplot\u001b[0m\u001b[1;33m(\u001b[0m\u001b[1;33m*\u001b[0m\u001b[0margs\u001b[0m\u001b[1;33m,\u001b[0m \u001b[1;33m**\u001b[0m\u001b[0mkwargs\u001b[0m\u001b[1;33m)\u001b[0m\u001b[1;33m\u001b[0m\u001b[0m\n\u001b[0m\u001b[1;32m   3162\u001b[0m     \u001b[1;32mfinally\u001b[0m\u001b[1;33m:\u001b[0m\u001b[1;33m\u001b[0m\u001b[0m\n\u001b[1;32m   3163\u001b[0m         \u001b[0max\u001b[0m\u001b[1;33m.\u001b[0m\u001b[0mhold\u001b[0m\u001b[1;33m(\u001b[0m\u001b[0mwashold\u001b[0m\u001b[1;33m)\u001b[0m\u001b[1;33m\u001b[0m\u001b[0m\n",
      "\u001b[0;32mC:\\Users\\Steffen\\Anaconda3\\lib\\site-packages\\matplotlib\\__init__.py\u001b[0m in \u001b[0;36minner\u001b[0;34m(ax, *args, **kwargs)\u001b[0m\n\u001b[1;32m   1816\u001b[0m                     warnings.warn(msg % (label_namer, func.__name__),\n\u001b[1;32m   1817\u001b[0m                                   RuntimeWarning, stacklevel=2)\n\u001b[0;32m-> 1818\u001b[0;31m             \u001b[1;32mreturn\u001b[0m \u001b[0mfunc\u001b[0m\u001b[1;33m(\u001b[0m\u001b[0max\u001b[0m\u001b[1;33m,\u001b[0m \u001b[1;33m*\u001b[0m\u001b[0margs\u001b[0m\u001b[1;33m,\u001b[0m \u001b[1;33m**\u001b[0m\u001b[0mkwargs\u001b[0m\u001b[1;33m)\u001b[0m\u001b[1;33m\u001b[0m\u001b[0m\n\u001b[0m\u001b[1;32m   1819\u001b[0m         \u001b[0mpre_doc\u001b[0m \u001b[1;33m=\u001b[0m \u001b[0minner\u001b[0m\u001b[1;33m.\u001b[0m\u001b[0m__doc__\u001b[0m\u001b[1;33m\u001b[0m\u001b[0m\n\u001b[1;32m   1820\u001b[0m         \u001b[1;32mif\u001b[0m \u001b[0mpre_doc\u001b[0m \u001b[1;32mis\u001b[0m \u001b[1;32mNone\u001b[0m\u001b[1;33m:\u001b[0m\u001b[1;33m\u001b[0m\u001b[0m\n",
      "\u001b[0;32mC:\\Users\\Steffen\\Anaconda3\\lib\\site-packages\\matplotlib\\axes\\_axes.py\u001b[0m in \u001b[0;36mplot\u001b[0;34m(self, *args, **kwargs)\u001b[0m\n\u001b[1;32m   1380\u001b[0m         \u001b[0mkwargs\u001b[0m \u001b[1;33m=\u001b[0m \u001b[0mcbook\u001b[0m\u001b[1;33m.\u001b[0m\u001b[0mnormalize_kwargs\u001b[0m\u001b[1;33m(\u001b[0m\u001b[0mkwargs\u001b[0m\u001b[1;33m,\u001b[0m \u001b[0m_alias_map\u001b[0m\u001b[1;33m)\u001b[0m\u001b[1;33m\u001b[0m\u001b[0m\n\u001b[1;32m   1381\u001b[0m \u001b[1;33m\u001b[0m\u001b[0m\n\u001b[0;32m-> 1382\u001b[0;31m         \u001b[1;32mfor\u001b[0m \u001b[0mline\u001b[0m \u001b[1;32min\u001b[0m \u001b[0mself\u001b[0m\u001b[1;33m.\u001b[0m\u001b[0m_get_lines\u001b[0m\u001b[1;33m(\u001b[0m\u001b[1;33m*\u001b[0m\u001b[0margs\u001b[0m\u001b[1;33m,\u001b[0m \u001b[1;33m**\u001b[0m\u001b[0mkwargs\u001b[0m\u001b[1;33m)\u001b[0m\u001b[1;33m:\u001b[0m\u001b[1;33m\u001b[0m\u001b[0m\n\u001b[0m\u001b[1;32m   1383\u001b[0m             \u001b[0mself\u001b[0m\u001b[1;33m.\u001b[0m\u001b[0madd_line\u001b[0m\u001b[1;33m(\u001b[0m\u001b[0mline\u001b[0m\u001b[1;33m)\u001b[0m\u001b[1;33m\u001b[0m\u001b[0m\n\u001b[1;32m   1384\u001b[0m             \u001b[0mlines\u001b[0m\u001b[1;33m.\u001b[0m\u001b[0mappend\u001b[0m\u001b[1;33m(\u001b[0m\u001b[0mline\u001b[0m\u001b[1;33m)\u001b[0m\u001b[1;33m\u001b[0m\u001b[0m\n",
      "\u001b[0;32mC:\\Users\\Steffen\\Anaconda3\\lib\\site-packages\\matplotlib\\axes\\_base.py\u001b[0m in \u001b[0;36m_grab_next_args\u001b[0;34m(self, *args, **kwargs)\u001b[0m\n\u001b[1;32m    379\u001b[0m                 \u001b[1;32mreturn\u001b[0m\u001b[1;33m\u001b[0m\u001b[0m\n\u001b[1;32m    380\u001b[0m             \u001b[1;32mif\u001b[0m \u001b[0mlen\u001b[0m\u001b[1;33m(\u001b[0m\u001b[0mremaining\u001b[0m\u001b[1;33m)\u001b[0m \u001b[1;33m<=\u001b[0m \u001b[1;36m3\u001b[0m\u001b[1;33m:\u001b[0m\u001b[1;33m\u001b[0m\u001b[0m\n\u001b[0;32m--> 381\u001b[0;31m                 \u001b[1;32mfor\u001b[0m \u001b[0mseg\u001b[0m \u001b[1;32min\u001b[0m \u001b[0mself\u001b[0m\u001b[1;33m.\u001b[0m\u001b[0m_plot_args\u001b[0m\u001b[1;33m(\u001b[0m\u001b[0mremaining\u001b[0m\u001b[1;33m,\u001b[0m \u001b[0mkwargs\u001b[0m\u001b[1;33m)\u001b[0m\u001b[1;33m:\u001b[0m\u001b[1;33m\u001b[0m\u001b[0m\n\u001b[0m\u001b[1;32m    382\u001b[0m                     \u001b[1;32myield\u001b[0m \u001b[0mseg\u001b[0m\u001b[1;33m\u001b[0m\u001b[0m\n\u001b[1;32m    383\u001b[0m                 \u001b[1;32mreturn\u001b[0m\u001b[1;33m\u001b[0m\u001b[0m\n",
      "\u001b[0;32mC:\\Users\\Steffen\\Anaconda3\\lib\\site-packages\\matplotlib\\axes\\_base.py\u001b[0m in \u001b[0;36m_plot_args\u001b[0;34m(self, tup, kwargs)\u001b[0m\n\u001b[1;32m    357\u001b[0m             \u001b[0mx\u001b[0m\u001b[1;33m,\u001b[0m \u001b[0my\u001b[0m \u001b[1;33m=\u001b[0m \u001b[0mindex_of\u001b[0m\u001b[1;33m(\u001b[0m\u001b[0mtup\u001b[0m\u001b[1;33m[\u001b[0m\u001b[1;33m-\u001b[0m\u001b[1;36m1\u001b[0m\u001b[1;33m]\u001b[0m\u001b[1;33m)\u001b[0m\u001b[1;33m\u001b[0m\u001b[0m\n\u001b[1;32m    358\u001b[0m \u001b[1;33m\u001b[0m\u001b[0m\n\u001b[0;32m--> 359\u001b[0;31m         \u001b[0mx\u001b[0m\u001b[1;33m,\u001b[0m \u001b[0my\u001b[0m \u001b[1;33m=\u001b[0m \u001b[0mself\u001b[0m\u001b[1;33m.\u001b[0m\u001b[0m_xy_from_xy\u001b[0m\u001b[1;33m(\u001b[0m\u001b[0mx\u001b[0m\u001b[1;33m,\u001b[0m \u001b[0my\u001b[0m\u001b[1;33m)\u001b[0m\u001b[1;33m\u001b[0m\u001b[0m\n\u001b[0m\u001b[1;32m    360\u001b[0m \u001b[1;33m\u001b[0m\u001b[0m\n\u001b[1;32m    361\u001b[0m         \u001b[1;32mif\u001b[0m \u001b[0mself\u001b[0m\u001b[1;33m.\u001b[0m\u001b[0mcommand\u001b[0m \u001b[1;33m==\u001b[0m \u001b[1;34m'plot'\u001b[0m\u001b[1;33m:\u001b[0m\u001b[1;33m\u001b[0m\u001b[0m\n",
      "\u001b[0;32mC:\\Users\\Steffen\\Anaconda3\\lib\\site-packages\\matplotlib\\axes\\_base.py\u001b[0m in \u001b[0;36m_xy_from_xy\u001b[0;34m(self, x, y)\u001b[0m\n\u001b[1;32m    217\u001b[0m         \u001b[0my\u001b[0m \u001b[1;33m=\u001b[0m \u001b[0m_check_1d\u001b[0m\u001b[1;33m(\u001b[0m\u001b[0my\u001b[0m\u001b[1;33m)\u001b[0m\u001b[1;33m\u001b[0m\u001b[0m\n\u001b[1;32m    218\u001b[0m         \u001b[1;32mif\u001b[0m \u001b[0mx\u001b[0m\u001b[1;33m.\u001b[0m\u001b[0mshape\u001b[0m\u001b[1;33m[\u001b[0m\u001b[1;36m0\u001b[0m\u001b[1;33m]\u001b[0m \u001b[1;33m!=\u001b[0m \u001b[0my\u001b[0m\u001b[1;33m.\u001b[0m\u001b[0mshape\u001b[0m\u001b[1;33m[\u001b[0m\u001b[1;36m0\u001b[0m\u001b[1;33m]\u001b[0m\u001b[1;33m:\u001b[0m\u001b[1;33m\u001b[0m\u001b[0m\n\u001b[0;32m--> 219\u001b[0;31m             \u001b[1;32mraise\u001b[0m \u001b[0mValueError\u001b[0m\u001b[1;33m(\u001b[0m\u001b[1;34m\"x and y must have same first dimension\"\u001b[0m\u001b[1;33m)\u001b[0m\u001b[1;33m\u001b[0m\u001b[0m\n\u001b[0m\u001b[1;32m    220\u001b[0m         \u001b[1;32mif\u001b[0m \u001b[0mx\u001b[0m\u001b[1;33m.\u001b[0m\u001b[0mndim\u001b[0m \u001b[1;33m>\u001b[0m \u001b[1;36m2\u001b[0m \u001b[1;32mor\u001b[0m \u001b[0my\u001b[0m\u001b[1;33m.\u001b[0m\u001b[0mndim\u001b[0m \u001b[1;33m>\u001b[0m \u001b[1;36m2\u001b[0m\u001b[1;33m:\u001b[0m\u001b[1;33m\u001b[0m\u001b[0m\n\u001b[1;32m    221\u001b[0m             \u001b[1;32mraise\u001b[0m \u001b[0mValueError\u001b[0m\u001b[1;33m(\u001b[0m\u001b[1;34m\"x and y can be no greater than 2-D\"\u001b[0m\u001b[1;33m)\u001b[0m\u001b[1;33m\u001b[0m\u001b[0m\n",
      "\u001b[0;31mValueError\u001b[0m: x and y must have same first dimension"
     ]
    },
    {
     "data": {
      "image/png": "[encoded data removed]",
      "text/plain": [
       "<matplotlib.figure.Figure at 0x2577899c5c0>"
      ]
     },
     "metadata": {},
     "output_type": "display_data"
    }
   ],
   "source": [
    "plt.plot(2500, np.fft.fft(w_kaiser*sincx, 2500))"
   ]
  },
  {
   "cell_type": "markdown",
   "metadata": {},
   "source": [
    "* d) Which window results when choosing A < 21 dB for the Kaiser-Bessel calculation method? Why is this the case?"
   ]
  },
  {
   "cell_type": "code",
   "execution_count": null,
   "metadata": {
    "collapsed": true
   },
   "outputs": [],
   "source": []
  },
  {
   "cell_type": "markdown",
   "metadata": {},
   "source": [
    "* e) How is the slope steepness of the \u001c",
    "filter responses being aff\u001bected by choosing a constant, e.g. N = 192, \u001c",
    "filter order and using the diff\u001berent cut-off\u001b frequencies 100, 1000, 10000 Hz. Why is this the case?"
   ]
  },
  {
   "cell_type": "code",
   "execution_count": null,
   "metadata": {
    "collapsed": true
   },
   "outputs": [],
   "source": []
  },
  {
   "cell_type": "markdown",
   "metadata": {},
   "source": [
    "## Exercise 2: IIR \u001c",
    "filter design using the bilinear transform\n"
   ]
  },
  {
   "cell_type": "markdown",
   "metadata": {},
   "source": [
    "* a) Derive H(z) in general form from H(s) given in eq. 7 using s = 2fs z−1 z+1 and formulate H(z) in the so-called biquad structure, i.e. as an IIR \u001c",
    "lter, as follows\n",
    "\\begin{equation}\n",
    "H(z) = \\frac{ b_0 + b_1z^{−1} + b_2z^{−2}}{1 + a_1z^{−1} + a_2z^{−2}}\n",
    "\\end{equation}\n",
    "i.e. express the coffe\u001e",
    "cients b0, b1, b2 and a1, a2 in general form."
   ]
  },
  {
   "cell_type": "markdown",
   "metadata": {},
   "source": [
    "Given in the exercise:\n",
    "\n",
    "\\begin{equation}\n",
    "H(s) = \\frac{1}{1 - s/w_c} \n",
    "\\end{equation}\n",
    "\n",
    "with $s \\approx 2\\cdot f_s \\frac{z-1}{z+1}$ the equation results in:\n",
    "\n",
    "\\begin{equation}\n",
    "H(z) = \\frac{1}{1 - \\frac{2\\cdot f_s \\frac{z-1}{z+1}}{w_c}} = \\frac{z+1}{z+1+\\frac{2 \\cdot f_s (z-1)}{w_c}} = \\frac{z+1}{z+1+\\frac{2 \\cdot f_s \\cdot z-2 \\cdot f_s}{w_c}} = \\frac{z+1}{z\\left(1+ \\frac{2 \\cdot f_s}{w_c}\\right)+\\left( 1- \\frac{2 \\cdot f_s}{w_c}\\right)}\n",
    "\\end{equation}\n",
    "\n",
    "\\begin{equation}\n",
    "H(z) = \\frac{1+z^{-1}}{\\left(1+ \\frac{2 \\cdot f_s}{w_c}\\right)+ z^{-1}\\left( 1- \\frac{2 \\cdot f_s}{w_c}\\right)} = \\frac{ \\frac{1}{1+ \\frac{2 \\cdot f_s}{w_c}}+ \\left( \\frac{1}{1+ \\frac{2 \\cdot f_s}{w_c}}\\right)z^{-1}}{1+ \\left( \\frac{1- \\frac{2 \\cdot f_s}{w_c}}{1+ \\frac{2 \\cdot f_s}{w_c}}\\right)z^{-1}}\n",
    "\\end{equation}"
   ]
  },
  {
   "cell_type": "code",
   "execution_count": null,
   "metadata": {
    "collapsed": true
   },
   "outputs": [],
   "source": []
  }
 ],
 "metadata": {
  "anaconda-cloud": {},
  "kernelspec": {
   "display_name": "Python [default]",
   "language": "python",
   "name": "python3"
  },
  "language_info": {
   "codemirror_mode": {
    "name": "ipython",
    "version": 3
   },
   "file_extension": ".py",
   "mimetype": "text/x-python",
   "name": "python",
   "nbconvert_exporter": "python",
   "pygments_lexer": "ipython3",
   "version": "3.5.2"
  }
 },
 "nbformat": 4,
 "nbformat_minor": 1
}
