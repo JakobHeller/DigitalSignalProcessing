{
 "cells": [
  {
   "cell_type": "markdown",
   "metadata": {
    "slideshow": {
     "slide_type": "-"
    }
   },
   "source": [
    "# Lab Exersice 4\n",
    "*Author: Jakob Heller, Steffen Steiner, Clemens Konrad Müller* \n"
   ]
  },
  {
   "cell_type": "markdown",
   "metadata": {},
   "source": [
    "## Exercise 1: FIR \u001c",
    "lter design\n"
   ]
  },
  {
   "cell_type": "markdown",
   "metadata": {},
   "source": [
    "* a) Show that the impulse response in general can be given as\n",
    "\n",
    "\\begin{equation}\n",
    "h[k] = \\frac{sin(π(k−N/2)}{π(k−N/2)} −\n",
    "\\frac{sin(Ω_c(k-N/2))}{π(k−N/2)}\\;\\;\\;\\;for −∞≤ k ≤∞. \n",
    "\\end{equation}"
   ]
  },
  {
   "cell_type": "markdown",
   "metadata": {},
   "source": [
    "Given:\n",
    "\\begin{equation}\n",
    "H(Ω)= \\begin{cases} \n",
    "   0\\cdot e^{-jΩ\\frac{N}{2}}\\qquad ,|Ω| < Ω_c\n",
    "   \\\\ 1\\cdot e^{-jΩ\\frac{N}{2}}\\qquad ,Ω_c < |Ω| \\leq π \n",
    "   \\end{cases}\n",
    "\\end{equation}\n",
    "\n",
    "The IDTFT yields to the equation:\n",
    "\n",
    "\\begin{equation}\n",
    "h[k] = \\frac{1}{2π} \\int_{Ω_c}^{π} e^{-jΩ\\frac{N}{2}}\\cdot e^{jΩk} dΩ\n",
    "\\end{equation}\n",
    "Simplified to:\n",
    "\\begin{equation}\n",
    "h[k] = \\frac{1}{2π} \\int_{Ω_c}^{π} e^{Ω(-j\\frac{N}{2}+jk)} dΩ\n",
    "\\end{equation}\n",
    "Solving the integral results in:\n",
    "\n",
    "\\begin{equation}\n",
    "h[k] = \\frac{1}{π(k-N/2)}\\cdot \\frac{e^{jπ(k-N/2)}-e^{jΩ_c(k-N/2)}}{2j}\n",
    "\\end{equation}\n",
    "\n",
    "Expressing the complex exponential function in real and imaginary part:\n",
    "\n",
    "\\begin{equation}\n",
    "h[k] = \\frac{1}{π(k-N/2)}\\cdot \\frac{1}{2j} [cos(π(k-N/2))+jsin(π(k-N/2))-cos(Ω_c(k-N/2))-jsin(Ω_c(k-N/2))]\n",
    "\\end{equation}\n",
    "\n",
    "Separating real and imaginary parts yields:\n",
    "\n",
    "\\begin{equation}\n",
    "h[k] = \\frac{1}{2} \\cdot \\left( \\frac{sin(π(k-N/2))-sin(Ω_c(k-N/2))}{π(k-N/2)} \\right)+ \\frac{1}{2} \\cdot \\left( \\frac{cos(π(k-N/2))-cos(Ω_c(k-N/2))}{jπ(k-N/2)} \\right)\n",
    "\\end{equation}\n",
    "\n",
    "using following identity:\n",
    "\n",
    "\\begin{equation}\n",
    "\\frac{cos(\\alpha)}{j} = sin(\\alpha)\n",
    "\\end{equation}\n",
    "\n",
    "The equation results in:\n",
    "\n",
    "\\begin{equation}\n",
    "h[k] = \\frac{1}{2} \\cdot \\left( \\frac{sin(π(k-N/2))-sin(Ω_c(k-N/2))}{π(k-N/2)} \\right)+\\frac{1}{2} \\cdot \\left( \\frac{sin(π(k-N/2))-sin(Ω_c(k-N/2))}{π(k-N/2)} \\right)\n",
    "\\end{equation}\n",
    "\n",
    "This leads to the given impulsresponse in a)\n",
    "\n",
    "\\begin{equation}\n",
    "h[k] = \\frac{sin(π(k−N/2)}{π(k−N/2)} −\n",
    "\\frac{sin(Ω_c(k-N/2))}{π(k−N/2)}\\;\\;\\;\\;for −∞≤ k ≤∞. \n",
    "\\end{equation}"
   ]
  },
  {
   "cell_type": "markdown",
   "metadata": {},
   "source": [
    "* b) Show that in the special case of even N \n",
    "\\begin{equation}\n",
    "h[k] = \\begin{cases} \n",
    "   −\\frac{sin(Ω_c(k-N/2))}{π(k−N/2)}\\qquad\\: ,k \\neq N/2\n",
    "   \\\\ 1-\\frac{Ω_c}{π}\\qquad\\qquad\\:\\:\\:\\: ,k=N/2\n",
    "   \\end{cases}\n",
    "\\end{equation}\n",
    "can be derived.\n"
   ]
  },
  {
   "cell_type": "markdown",
   "metadata": {},
   "source": [
    "* c) Generate highpass FIR fi\u001c",
    "lters with di\u001bfferent cut-o\u001bff frequencies fc = 100, 1000, 10000 Hz with adapted \u001c",
    "filter orders N by rectangular windowing (h[k]) and by Kaiser-Bessel windowing (hw[k] = h[k]·wKB[k]) for 0 ≤ k ≤ N and a sampling frequency of fs = 48000 Hz. The stop band attenuation of the Kaisel-Bessel window shall be A = 36 dB. The speci\u001c",
    "c fi\u001c",
    "lter order N is to be adapted to four cycle durations of the speci\u001c",
    "c cut-o\u001bff frequency. N should be even, i.e. an odd number N + 1 of FIR coe\u001e",
    "cients results. This yields about the same slope steepnesses of the fi\u001c",
    "lter responses. Create the magnitude responses in \u001c",
    "fig. 1 on your own and check if the FIR \u001c",
    "filters are really linear-phase.\n"
   ]
  },
  {
   "cell_type": "code",
   "execution_count": null,
   "metadata": {
    "collapsed": true
   },
   "outputs": [],
   "source": [
    "fc1 = 100\n",
    "fc2= 1000\n",
    "fc3= 10000\n",
    "fs = 48000\n",
    "A = 38\n",
    "\n"
   ]
  }
 ],
 "metadata": {
  "anaconda-cloud": {},
  "kernelspec": {
   "display_name": "Python [default]",
   "language": "python",
   "name": "python3"
  },
  "language_info": {
   "codemirror_mode": {
    "name": "ipython",
    "version": 3
   },
   "file_extension": ".py",
   "mimetype": "text/x-python",
   "name": "python",
   "nbconvert_exporter": "python",
   "pygments_lexer": "ipython3",
   "version": "3.5.2"
  }
 },
 "nbformat": 4,
 "nbformat_minor": 1
}
