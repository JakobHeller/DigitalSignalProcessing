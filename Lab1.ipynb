{
 "cells": [
  {
   "cell_type": "markdown",
   "metadata": {
    "slideshow": {
     "slide_type": "-"
    }
   },
   "source": [
    "# Lab Exersice 1\n",
    "*Author: Jakob Heller + Die Gang* \n"
   ]
  },
  {
   "cell_type": "markdown",
   "metadata": {},
   "source": [
    "## DFT and Windowing\n",
    "## Exercise: Windowing of a harmonic signal"
   ]
  },
  {
   "cell_type": "markdown",
   "metadata": {},
   "source": [
    "a) Generate two sine signals of  $f_1=200$ Hz and $f_2 = 200.25$ Hz and amplitude $|x[k]|_{max} = 1$\n",
    "for the sampling rate $f_s = 800$ Hz in the range of $0 ≤ k < N = 1600$ ."
   ]
  },
  {
   "cell_type": "code",
   "execution_count": 75,
   "metadata": {
    "collapsed": false
   },
   "outputs": [],
   "source": [
    "%matplotlib inline \n",
    "import numpy as np\n",
    "from scipy import signal\n",
    "import matplotlib.pyplot as plt\n",
    "\n",
    "# generate the 3 frequencies\n",
    "f1=200 # Hz\n",
    "f2=200.25 # Hz\n",
    "fs=800 #Hz\n",
    "\n",
    "# Range\n",
    "N=1600 #int\n",
    "\n",
    "#maximum amplitude\n",
    "maxamp=1\n",
    "\n",
    "#k (array from 0 to Range in N/fs steps)\n",
    "k = np.arange(0, N, 1)\n",
    "\n",
    "#create sines\n",
    "y1 = maxamp * np.sin(2 * np.pi * f1 * k/fs)\n",
    "y2 = maxamp * np.sin(2 * np.pi * f2 * k/fs)\n",
    "\n",
    "\n",
    "#plt.plot(k,y2)"
   ]
  },
  {
   "cell_type": "markdown",
   "metadata": {},
   "source": [
    "b) Generate a rectangular window, a Hanning window and a fl\u001d",
    "at top window with the same length as the sine signals."
   ]
  },
  {
   "cell_type": "code",
   "execution_count": 76,
   "metadata": {
    "collapsed": false
   },
   "outputs": [],
   "source": [
    "w_rect= np.ones(N) #rectangle windowfunction\n",
    "w_hanning= np.hanning(N) #hanning window\n",
    "w_flat_top=signal.flattop(N) #flat top window"
   ]
  },
  {
   "cell_type": "markdown",
   "metadata": {},
   "source": [
    "c) Window both sine signals with the three windows and calculate the DFT spectra."
   ]
  },
  {
   "cell_type": "code",
   "execution_count": 77,
   "metadata": {
    "collapsed": false
   },
   "outputs": [],
   "source": [
    "#we define a function for windowing and DFT spectra\n",
    "def window_and_dft(f,w):\n",
    "    \n",
    "    N = len(f)\n",
    "    \n",
    "    #window the function with the signal\n",
    "    wf=f*w #windowedfunction\n",
    "    \n",
    "    # DFT of window function\n",
    "    WF = np.fft.fft(wf, N)\n",
    "    #WF = np.fft.fftshift(WF)\n",
    "    #WF = WF / np.amax(WF) + np.nextafter(0,1)\n",
    "    #mu = np.linspace(-np.pi, np.pi, 8192)\n",
    "\n",
    "\n"
   ]
  },
  {
   "cell_type": "code",
   "execution_count": 78,
   "metadata": {
    "collapsed": false
   },
   "outputs": [],
   "source": [
    "#window_and_dft all combinations of signals and windows\n",
    "window_and_dft(y1,w_rect)\n",
    "window_and_dft(y1,w_hanning)\n",
    "window_and_dft(y1,w_flat_top)\n",
    "window_and_dft(y2,w_rect)\n",
    "window_and_dft(y2,w_hanning)\n",
    "window_and_dft(y2,w_flat_top)"
   ]
  },
  {
   "cell_type": "markdown",
   "metadata": {},
   "source": [
    "d) Plot the absolute value of the DFT spectra in $dB$ as in fi\u001c",
    "g. $1$, $2$ and $3$. Pay attention\n",
    "to using the same normalisation: The DFT values apart from DC and $f_s/2$  have to be\n",
    "normalised with $N/2$ before calculating the logarithm to achieve physically interpretable\n",
    "spectra."
   ]
  },
  {
   "cell_type": "code",
   "execution_count": null,
   "metadata": {
    "collapsed": true
   },
   "outputs": [],
   "source": []
  },
  {
   "cell_type": "markdown",
   "metadata": {},
   "source": [
    "e) Plot the amplitude spectra of the three windows in dB normalised to their maximum. Use\n",
    "zero-padding or the formulas for interpolation towards the DTFT to achieve a su\u001e",
    "ciently\n",
    "high resolution of the spectra to show the characteristics of the windows."
   ]
  },
  {
   "cell_type": "code",
   "execution_count": null,
   "metadata": {
    "collapsed": true
   },
   "outputs": [],
   "source": []
  },
  {
   "cell_type": "markdown",
   "metadata": {},
   "source": [
    "f) Interpret the results of d) with the help of e) regarding the best and worst case for the\n",
    "di\u001bfferent windows. Why do the results for the signals with frequencies $f_1$ and $f_2$ differ?"
   ]
  },
  {
   "cell_type": "code",
   "execution_count": null,
   "metadata": {
    "collapsed": true
   },
   "outputs": [],
   "source": []
  },
  {
   "cell_type": "markdown",
   "metadata": {},
   "source": [
    "g) Determine the width of the main lobe (at the $−3$ dB corner frequencies) and the attenuation of the highest side lobe from the window spectra. It might be useful to use wvtool\n",
    "in Matlab."
   ]
  },
  {
   "cell_type": "code",
   "execution_count": null,
   "metadata": {
    "collapsed": true
   },
   "outputs": [],
   "source": []
  },
  {
   "cell_type": "markdown",
   "metadata": {},
   "source": [
    "h) Explain for which signal analysis task the rectangular window and the fl\u001d",
    "at top window\n",
    "should be used."
   ]
  },
  {
   "cell_type": "code",
   "execution_count": null,
   "metadata": {
    "collapsed": true
   },
   "outputs": [],
   "source": []
  },
  {
   "cell_type": "markdown",
   "metadata": {},
   "source": [
    "i) Do some research on your own: Which advantages exhibit the Kaiser-bessel (in Matlab:\n",
    "kaiser ) and the Dolph-Chebyshev (in Matlab: chebwin ) window?"
   ]
  },
  {
   "cell_type": "code",
   "execution_count": null,
   "metadata": {
    "collapsed": true
   },
   "outputs": [],
   "source": []
  }
 ],
 "metadata": {
  "kernelspec": {
   "display_name": "Python 3",
   "language": "python",
   "name": "python3"
  },
  "language_info": {
   "codemirror_mode": {
    "name": "ipython",
    "version": 3
   },
   "file_extension": ".py",
   "mimetype": "text/x-python",
   "name": "python",
   "nbconvert_exporter": "python",
   "pygments_lexer": "ipython3",
   "version": "3.5.2"
  }
 },
 "nbformat": 4,
 "nbformat_minor": 1
}
